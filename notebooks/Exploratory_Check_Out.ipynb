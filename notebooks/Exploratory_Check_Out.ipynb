{
 "cells": [
  {
   "cell_type": "code",
   "execution_count": 3,
   "metadata": {},
   "outputs": [
    {
     "name": "stdout",
     "output_type": "stream",
     "text": [
      "C:\\Users\\usuario\\Desktop\\New_Work\n"
     ]
    }
   ],
   "source": [
    "%cd ..\n",
    "%matplotlib inline"
   ]
  },
  {
   "cell_type": "code",
   "execution_count": 15,
   "metadata": {},
   "outputs": [],
   "source": [
    "import pandas as pd\n",
    "import numpy as np\n",
    "import matplotlib.pyplot as plt\n",
    "from IPython.display import clear_output\n",
    "import os\n",
    "from sklearn import preprocessing"
   ]
  },
  {
   "cell_type": "code",
   "execution_count": 36,
   "metadata": {},
   "outputs": [],
   "source": [
    "from src.common_paths import get_data_path, get_output_path\n",
    "from src.common_paths import get_data_path, get_output_path\n",
    "from src.utilities import fill_nan_with"
   ]
  },
  {
   "cell_type": "code",
   "execution_count": 28,
   "metadata": {},
   "outputs": [],
   "source": [
    "def fill_nan_with(data_df, var, value=0, FUN=None, perc=None):\n",
    "    \"\"\"Count of NAN and replacement of them by\n",
    "\t:data_df: your pandas data frame \n",
    "\t:var: variable to be modified \"var1\"\n",
    "\t:value: value to be added\n",
    "\t:FUN: instead of adding a value yourself, you can add \"mean\", \"median\" or \"percentile\" of that variable\n",
    "\t:perc: value of the percentile when FUN=\"percentile\", range [0-1]\n",
    "    \"\"\"\n",
    "    num_nan=data_df[[var]].isnull().sum().values[0]\n",
    "    print(\"Count of NAN values in {x}: {y}\".format(x=var, y=num_nan))\n",
    "    \n",
    "    if FUN is None and num_nan>0:\n",
    "        try:\n",
    "            data_df[var] = data_df[var].replace(np.nan, value)        \n",
    "            print(\"----> Replaced by {}\".format(value))\n",
    "        except Exception as error:\n",
    "            print(error)\n",
    "            \n",
    "    elif FUN is not None and num_nan>0:\n",
    "        try:\n",
    "            if FUN==\"mean\":\n",
    "                stat=np.mean(data_df[var])\n",
    "                data_df[var] = data_df[var].replace(np.nan, stat)\n",
    "            elif FUN==\"median\":\n",
    "                stat=np.nanmedian(data_df[var])\n",
    "                data_df[var] = data_df[var].replace(np.nan, stat)\n",
    "            elif FUN==\"percentil\":\n",
    "                try:\n",
    "                    stat=np.nanpercentile(data_df[var], perc)\n",
    "                    data_df[var] = data_df[var].replace(np.nan, stat)\n",
    "                except Exception as error:\n",
    "                    #WARNING ERROR\n",
    "                    print(error)\n",
    "            print(\"----> Replaced by {} with value {}\".format(FUN, stat))\n",
    "        except Exception as error:\n",
    "            #WARNING ERROR\n",
    "            print(error) \n",
    "            \n",
    "    else:\n",
    "        print(\"----> Nothing replaced\")\n",
    "    pass"
   ]
  },
  {
   "cell_type": "code",
   "execution_count": 29,
   "metadata": {},
   "outputs": [],
   "source": [
    "# Define name of columns:\n",
    "aux_column_names=[\"id\", \"company_name\", \"website_url\", \"foundation_year\", \"city\", \"country\"]\n",
    "# Load the data and calculate the users set and items set cardinalities\n",
    "c_entities_df = pd.read_csv(os.path.join(get_data_path(), \"company_entities.tsv\"), \n",
    "                            names=aux_column_names, \n",
    "                            encoding=\"utf-8\", \n",
    "                            sep=\"\\t\") # .fillna({\"text\": \"empty\"})\n",
    "\n",
    "c_profiles_df = pd.read_csv(os.path.join(get_data_path(), \"company_profiles.tsv\"), \n",
    "                            names=aux_column_names,\n",
    "                            encoding=\"utf-8\", \n",
    "                            sep=\"\\t\") # .fillna({\"text\": \"empty\"})\n"
   ]
  },
  {
   "cell_type": "code",
   "execution_count": 7,
   "metadata": {},
   "outputs": [],
   "source": [
    "# For the following exploration analysis, will check \n",
    "#1. Type of variables the data have been load. Should we correct anything?\n",
    "#2. Missing values (Should we replace them?)\n",
    "#3. If there are categorical values that for sure there are, how many categories belong to each categorical variable (could be crucial for the modeling part)\n",
    "#4. Statistics to understand better the data. "
   ]
  },
  {
   "cell_type": "code",
   "execution_count": 30,
   "metadata": {},
   "outputs": [
    {
     "name": "stdout",
     "output_type": "stream",
     "text": [
      "(10000, 6)\n",
      "Number of unique values by id: 10000\n"
     ]
    },
    {
     "data": {
      "text/plain": [
       "id                   int64\n",
       "company_name        object\n",
       "website_url         object\n",
       "foundation_year    float64\n",
       "city                object\n",
       "country             object\n",
       "dtype: object"
      ]
     },
     "execution_count": 30,
     "metadata": {},
     "output_type": "execute_result"
    }
   ],
   "source": [
    "# 1. Type of variables:\n",
    "print(c_profiles_df.shape) #10k profiles\n",
    "print(\"Number of unique values by id: {}\".format(str(len(np.unique(c_profiles_df.id)))))\n",
    "c_profiles_df.dtypes"
   ]
  },
  {
   "cell_type": "code",
   "execution_count": 31,
   "metadata": {},
   "outputs": [
    {
     "name": "stdout",
     "output_type": "stream",
     "text": [
      "(49938, 6)\n",
      "Number of unique values by id: 49937\n"
     ]
    },
    {
     "data": {
      "text/plain": [
       "id                   int64\n",
       "company_name        object\n",
       "website_url         object\n",
       "foundation_year    float64\n",
       "city                object\n",
       "country             object\n",
       "dtype: object"
      ]
     },
     "execution_count": 31,
     "metadata": {},
     "output_type": "execute_result"
    }
   ],
   "source": [
    "print(c_entities_df.shape) #~50k entitites\n",
    "print(\"Number of unique values by id: {}\".format(str(len(np.unique(c_entities_df.id)))))\n",
    "c_entities_df.dtypes"
   ]
  },
  {
   "cell_type": "code",
   "execution_count": 32,
   "metadata": {},
   "outputs": [
    {
     "data": {
      "text/html": [
       "<div>\n",
       "<style scoped>\n",
       "    .dataframe tbody tr th:only-of-type {\n",
       "        vertical-align: middle;\n",
       "    }\n",
       "\n",
       "    .dataframe tbody tr th {\n",
       "        vertical-align: top;\n",
       "    }\n",
       "\n",
       "    .dataframe thead th {\n",
       "        text-align: right;\n",
       "    }\n",
       "</style>\n",
       "<table border=\"1\" class=\"dataframe\">\n",
       "  <thead>\n",
       "    <tr style=\"text-align: right;\">\n",
       "      <th></th>\n",
       "      <th>id</th>\n",
       "      <th>company_name</th>\n",
       "      <th>website_url</th>\n",
       "      <th>foundation_year</th>\n",
       "      <th>city</th>\n",
       "      <th>country</th>\n",
       "    </tr>\n",
       "  </thead>\n",
       "  <tbody>\n",
       "    <tr>\n",
       "      <th>5590</th>\n",
       "      <td>342339156</td>\n",
       "      <td>BBS GmbH</td>\n",
       "      <td>NaN</td>\n",
       "      <td>2013.0</td>\n",
       "      <td>Bartholomäberg</td>\n",
       "      <td>AT</td>\n",
       "    </tr>\n",
       "  </tbody>\n",
       "</table>\n",
       "</div>"
      ],
      "text/plain": [
       "             id company_name website_url  foundation_year            city  \\\n",
       "5590  342339156     BBS GmbH         NaN           2013.0  Bartholomäberg   \n",
       "\n",
       "     country  \n",
       "5590      AT  "
      ]
     },
     "execution_count": 32,
     "metadata": {},
     "output_type": "execute_result"
    }
   ],
   "source": [
    "#In entities there is one ID duplicated:\n",
    "c_entities_df.loc[c_entities_df.duplicated(subset=\"id\")] # ID ---> 342339156\n",
    "c_entities_df.loc[c_entities_df[\"id\"]==342339156]\n",
    "\n",
    "# Its the same entity in different year and country/city. If is the same entity but now its in Austria \n",
    "# I would delete the second row. If they are different I would concatenate company_name with country to make them unique.\n",
    "# Because there is only one duplicated it would over add many dimensionalities.\n",
    "# I will delete it in this case.\n",
    "c_entities_df.drop_duplicates(subset=\"id\", keep=\"first\", inplace=True) # ID ---> 342339156\n",
    "c_entities_df.loc[c_entities_df[\"id\"]==342339156]"
   ]
  },
  {
   "cell_type": "code",
   "execution_count": 33,
   "metadata": {},
   "outputs": [],
   "source": [
    "# Change the ID type.\n",
    "c_entities_df['id']=c_entities_df['id'].astype('object')\n",
    "c_profiles_df['id']=c_profiles_df['id'].astype('object')"
   ]
  },
  {
   "cell_type": "code",
   "execution_count": 34,
   "metadata": {},
   "outputs": [
    {
     "name": "stdout",
     "output_type": "stream",
     "text": [
      "Entities data - count of NAN values in id: 0\n",
      "Profiles data - count of NAN values in id: 0\n",
      "Entities data - count of NAN values in company_name: 0\n",
      "Profiles data - count of NAN values in company_name: 0\n",
      "Entities data - count of NAN values in website_url: 19494\n",
      "Profiles data - count of NAN values in website_url: 644\n",
      "Entities data - count of NAN values in foundation_year: 477\n",
      "Profiles data - count of NAN values in foundation_year: 5121\n",
      "Entities data - count of NAN values in city: 1\n",
      "Profiles data - count of NAN values in city: 97\n",
      "Entities data - count of NAN values in country: 0\n",
      "Profiles data - count of NAN values in country: 93\n"
     ]
    }
   ],
   "source": [
    "#2. Check of missing values:\n",
    "for var in aux_column_names:\n",
    "    num_nan=c_entities_df[[var]].isnull().sum().values[0]\n",
    "    print(\"Entities data - count of NAN values in {x}: {y}\".format(x=var, y=num_nan))\n",
    "    num_nan=c_profiles_df[[var]].isnull().sum().values[0]\n",
    "    print(\"Profiles data - count of NAN values in {x}: {y}\".format(x=var, y=num_nan))"
   ]
  },
  {
   "cell_type": "code",
   "execution_count": 26,
   "metadata": {},
   "outputs": [],
   "source": []
  },
  {
   "cell_type": "code",
   "execution_count": 35,
   "metadata": {},
   "outputs": [
    {
     "name": "stdout",
     "output_type": "stream",
     "text": [
      "Count of NAN values in website_url: 644\n",
      "----> Replaced by leer\n",
      "Count of NAN values in website_url: 19494\n",
      "----> Replaced by leer\n",
      "Count of NAN values in country: 93\n",
      "----> Replaced by leer\n",
      "Count of NAN values in country: 0\n",
      "----> Nothing replaced\n",
      "Count of NAN values in city: 97\n",
      "----> Replaced by leer\n",
      "Count of NAN values in city: 1\n",
      "----> Replaced by leer\n"
     ]
    }
   ],
   "source": [
    "# There is a huge number of missing values on the entitites websites ~40% and ~50% on profiles foundation year \n",
    "# On the website_url will replace them for a value \"no_url\" and for the foundation_year depending on the range of its values.\n",
    "fill_nan_with(c_profiles_df, var=\"website_url\", value=\"leer\", FUN=None, perc=None)\n",
    "fill_nan_with(c_entities_df, var=\"website_url\", value=\"leer\", FUN=None, perc=None)\n",
    "\n",
    "fill_nan_with(c_profiles_df, var=\"country\", value=\"leer\", FUN=None, perc=None)\n",
    "fill_nan_with(c_entities_df, var=\"country\", value=\"leer\", FUN=None, perc=None)\n",
    "\n",
    "fill_nan_with(c_profiles_df, var=\"city\", value=\"leer\", FUN=None, perc=None)\n",
    "fill_nan_with(c_entities_df, var=\"city\", value=\"leer\", FUN=None, perc=None)"
   ]
  },
  {
   "cell_type": "code",
   "execution_count": 37,
   "metadata": {},
   "outputs": [
    {
     "data": {
      "text/html": [
       "<div>\n",
       "<style scoped>\n",
       "    .dataframe tbody tr th:only-of-type {\n",
       "        vertical-align: middle;\n",
       "    }\n",
       "\n",
       "    .dataframe tbody tr th {\n",
       "        vertical-align: top;\n",
       "    }\n",
       "\n",
       "    .dataframe thead th {\n",
       "        text-align: right;\n",
       "    }\n",
       "</style>\n",
       "<table border=\"1\" class=\"dataframe\">\n",
       "  <thead>\n",
       "    <tr style=\"text-align: right;\">\n",
       "      <th></th>\n",
       "      <th>id</th>\n",
       "      <th>company_name</th>\n",
       "      <th>website_url</th>\n",
       "      <th>foundation_year</th>\n",
       "      <th>city</th>\n",
       "      <th>country</th>\n",
       "    </tr>\n",
       "  </thead>\n",
       "  <tbody>\n",
       "    <tr>\n",
       "      <th>1316</th>\n",
       "      <td>43608</td>\n",
       "      <td>Stadt Essen</td>\n",
       "      <td>www.essen.de</td>\n",
       "      <td>845.0</td>\n",
       "      <td>Essen</td>\n",
       "      <td>DE</td>\n",
       "    </tr>\n",
       "    <tr>\n",
       "      <th>2485</th>\n",
       "      <td>65946</td>\n",
       "      <td>Stadt Ulm</td>\n",
       "      <td>http://www.ulm.de</td>\n",
       "      <td>854.0</td>\n",
       "      <td>Ulm</td>\n",
       "      <td>DE</td>\n",
       "    </tr>\n",
       "    <tr>\n",
       "      <th>3061</th>\n",
       "      <td>79755</td>\n",
       "      <td>TAKRAF GmbH</td>\n",
       "      <td>http://www.takraf.com/</td>\n",
       "      <td>1725.0</td>\n",
       "      <td>Leipzig</td>\n",
       "      <td>DE</td>\n",
       "    </tr>\n",
       "    <tr>\n",
       "      <th>4513</th>\n",
       "      <td>153802</td>\n",
       "      <td>Privatbrauerei Eichbaum GmbH &amp; Co. KG</td>\n",
       "      <td>http://www.eichbaum.de/</td>\n",
       "      <td>1679.0</td>\n",
       "      <td>Mannheim</td>\n",
       "      <td>DE</td>\n",
       "    </tr>\n",
       "    <tr>\n",
       "      <th>6377</th>\n",
       "      <td>354337</td>\n",
       "      <td>Bethmann Bank AG</td>\n",
       "      <td>www.bethmannbank.de</td>\n",
       "      <td>1712.0</td>\n",
       "      <td>Frankfurt</td>\n",
       "      <td>DE</td>\n",
       "    </tr>\n",
       "    <tr>\n",
       "      <th>7027</th>\n",
       "      <td>405913</td>\n",
       "      <td>Saint-Gobain Deutschland</td>\n",
       "      <td>http://www.saint-gobain.de</td>\n",
       "      <td>1665.0</td>\n",
       "      <td>Aachen</td>\n",
       "      <td>DE</td>\n",
       "    </tr>\n",
       "    <tr>\n",
       "      <th>7863</th>\n",
       "      <td>917202</td>\n",
       "      <td>BHS Corrugated Maschinen- und Anlagenbau GmbH</td>\n",
       "      <td>http://www.bhs-world.com/</td>\n",
       "      <td>1717.0</td>\n",
       "      <td>Weiherhammer</td>\n",
       "      <td>DE</td>\n",
       "    </tr>\n",
       "  </tbody>\n",
       "</table>\n",
       "</div>"
      ],
      "text/plain": [
       "          id                                   company_name  \\\n",
       "1316   43608                                    Stadt Essen   \n",
       "2485   65946                                      Stadt Ulm   \n",
       "3061   79755                                    TAKRAF GmbH   \n",
       "4513  153802          Privatbrauerei Eichbaum GmbH & Co. KG   \n",
       "6377  354337                               Bethmann Bank AG   \n",
       "7027  405913                       Saint-Gobain Deutschland   \n",
       "7863  917202  BHS Corrugated Maschinen- und Anlagenbau GmbH   \n",
       "\n",
       "                     website_url  foundation_year          city country  \n",
       "1316                www.essen.de            845.0         Essen      DE  \n",
       "2485           http://www.ulm.de            854.0           Ulm      DE  \n",
       "3061      http://www.takraf.com/           1725.0       Leipzig      DE  \n",
       "4513     http://www.eichbaum.de/           1679.0      Mannheim      DE  \n",
       "6377         www.bethmannbank.de           1712.0     Frankfurt      DE  \n",
       "7027  http://www.saint-gobain.de           1665.0        Aachen      DE  \n",
       "7863   http://www.bhs-world.com/           1717.0  Weiherhammer      DE  "
      ]
     },
     "execution_count": 37,
     "metadata": {},
     "output_type": "execute_result"
    }
   ],
   "source": [
    "# There are profiles with foundation years very old \n",
    "c_profiles_df.foundation_year[c_profiles_df[\"foundation_year\"]>1725].describe()\n",
    "c_profiles_df[c_profiles_df[\"foundation_year\"]<=1725] "
   ]
  },
  {
   "cell_type": "code",
   "execution_count": 38,
   "metadata": {},
   "outputs": [
    {
     "name": "stdout",
     "output_type": "stream",
     "text": [
      "There are 49937 entities IDs and 48311 company_names\n"
     ]
    },
    {
     "data": {
      "text/plain": [
       "<matplotlib.axes._subplots.AxesSubplot at 0x2b083a57a90>"
      ]
     },
     "execution_count": 38,
     "metadata": {},
     "output_type": "execute_result"
    },
    {
     "data": {
      "image/png": "[encoded data removed]",
      "text/plain": [
       "<Figure size 432x288 with 1 Axes>"
      ]
     },
     "metadata": {
      "needs_background": "light"
     },
     "output_type": "display_data"
    }
   ],
   "source": [
    "#3. Categorical company_name:\n",
    "np.sum(c_profiles_df['company_name'].value_counts()>0)# Validity check again\n",
    "\n",
    "\n",
    "# Plot\n",
    "print(\"There are {} entities IDs and {} company_names\".format(str(c_entities_df.shape[0]), \n",
    "                                                              str(len(np.unique(c_entities_df.company_name)))))\n",
    "\n",
    "\n",
    "#Plot categorical data\n",
    "plt.title('Top Company name (entitites)')\n",
    "c_entities_df['company_name'].value_counts().nlargest(30).plot.bar()"
   ]
  },
  {
   "cell_type": "code",
   "execution_count": 39,
   "metadata": {},
   "outputs": [
    {
     "data": {
      "text/plain": [
       "<matplotlib.axes._subplots.AxesSubplot at 0x2b084da0dc0>"
      ]
     },
     "execution_count": 39,
     "metadata": {},
     "output_type": "execute_result"
    },
    {
     "data": {
      "image/png": "[encoded data removed]",
      "text/plain": [
       "<Figure size 432x288 with 1 Axes>"
      ]
     },
     "metadata": {
      "needs_background": "light"
     },
     "output_type": "display_data"
    }
   ],
   "source": [
    "plt.title('Countries (entitites)')\n",
    "c_entities_df['country'].value_counts().plot.bar() #look some distributions to avoid bias"
   ]
  },
  {
   "cell_type": "code",
   "execution_count": 40,
   "metadata": {},
   "outputs": [
    {
     "data": {
      "text/plain": [
       "<matplotlib.axes._subplots.AxesSubplot at 0x2b084b4bf10>"
      ]
     },
     "execution_count": 40,
     "metadata": {},
     "output_type": "execute_result"
    },
    {
     "data": {
      "image/png": "[encoded data removed]",
      "text/plain": [
       "<Figure size 432x288 with 1 Axes>"
      ]
     },
     "metadata": {
      "needs_background": "light"
     },
     "output_type": "display_data"
    }
   ],
   "source": [
    "#Distribution of foundation year in order to see the distribution and think if could it be discretized:\n",
    "numeric_features = \"foundation_year\"\n",
    "categorical_features = \"country\"\n",
    "\n",
    "#Histogram:\n",
    "c_entities_df[numeric_features][c_entities_df[numeric_features]>1800].hist(bins=25)\n",
    "# As is expected is skeewd and probably can be cut it in three categories (thats is choosed to empower old and medium entitites)"
   ]
  },
  {
   "cell_type": "code",
   "execution_count": 41,
   "metadata": {},
   "outputs": [
    {
     "data": {
      "text/plain": [
       "experte    32632\n",
       "junge      10875\n",
       "reifen      6430\n",
       "Name: foundation_year_cat, dtype: int64"
      ]
     },
     "execution_count": 41,
     "metadata": {},
     "output_type": "execute_result"
    }
   ],
   "source": [
    "# Create another variable called foundation_year_cat to represent the tenure.\n",
    "c_entities_df['foundation_year_cat'] = [\"reifen\" if i_value<1965 else \"junge\" if (i_value>=1965 and i_value<1990) else \"experte\" for i_value in c_entities_df.foundation_year]\n",
    "c_entities_df['foundation_year_cat'].value_counts()"
   ]
  },
  {
   "cell_type": "code",
   "execution_count": 42,
   "metadata": {},
   "outputs": [
    {
     "data": {
      "text/plain": [
       "experte    8154\n",
       "reifen      997\n",
       "junge       849\n",
       "Name: foundation_year_cat, dtype: int64"
      ]
     },
     "execution_count": 42,
     "metadata": {},
     "output_type": "execute_result"
    }
   ],
   "source": [
    "#Idem in profiles:\n",
    "c_profiles_df['foundation_year_cat'] = [\"reifen\" if i_value<1965 else \"junge\" if (i_value>=1965 and i_value<1990) else \"experte\" for i_value in c_profiles_df.foundation_year]\n",
    "c_profiles_df['foundation_year_cat'].value_counts()"
   ]
  },
  {
   "cell_type": "code",
   "execution_count": 43,
   "metadata": {},
   "outputs": [
    {
     "name": "stdout",
     "output_type": "stream",
     "text": [
      "(6124, 13)\n"
     ]
    },
    {
     "data": {
      "text/html": [
       "<div>\n",
       "<style scoped>\n",
       "    .dataframe tbody tr th:only-of-type {\n",
       "        vertical-align: middle;\n",
       "    }\n",
       "\n",
       "    .dataframe tbody tr th {\n",
       "        vertical-align: top;\n",
       "    }\n",
       "\n",
       "    .dataframe thead th {\n",
       "        text-align: right;\n",
       "    }\n",
       "</style>\n",
       "<table border=\"1\" class=\"dataframe\">\n",
       "  <thead>\n",
       "    <tr style=\"text-align: right;\">\n",
       "      <th></th>\n",
       "      <th>id_x</th>\n",
       "      <th>company_name</th>\n",
       "      <th>website_url_x</th>\n",
       "      <th>foundation_year_x</th>\n",
       "      <th>city_x</th>\n",
       "      <th>country_x</th>\n",
       "      <th>foundation_year_cat_x</th>\n",
       "      <th>id_y</th>\n",
       "      <th>website_url_y</th>\n",
       "      <th>foundation_year_y</th>\n",
       "      <th>city_y</th>\n",
       "      <th>country_y</th>\n",
       "      <th>foundation_year_cat_y</th>\n",
       "    </tr>\n",
       "  </thead>\n",
       "  <tbody>\n",
       "    <tr>\n",
       "      <th>0</th>\n",
       "      <td>403</td>\n",
       "      <td>Barfeld &amp; Partner GmbH</td>\n",
       "      <td>http://www.barfeld.de</td>\n",
       "      <td>NaN</td>\n",
       "      <td>Mülheim an der Ruhr</td>\n",
       "      <td>DE</td>\n",
       "      <td>experte</td>\n",
       "      <td>NaN</td>\n",
       "      <td>NaN</td>\n",
       "      <td>NaN</td>\n",
       "      <td>NaN</td>\n",
       "      <td>NaN</td>\n",
       "      <td>NaN</td>\n",
       "    </tr>\n",
       "    <tr>\n",
       "      <th>1</th>\n",
       "      <td>462</td>\n",
       "      <td>vergissmeinnicht Werbeagentur GmbH</td>\n",
       "      <td>http://www.vergissmeinnicht-kommunikation.de</td>\n",
       "      <td>2008.0</td>\n",
       "      <td>Überlingen</td>\n",
       "      <td>DE</td>\n",
       "      <td>experte</td>\n",
       "      <td>NaN</td>\n",
       "      <td>NaN</td>\n",
       "      <td>NaN</td>\n",
       "      <td>NaN</td>\n",
       "      <td>NaN</td>\n",
       "      <td>NaN</td>\n",
       "    </tr>\n",
       "    <tr>\n",
       "      <th>2</th>\n",
       "      <td>507</td>\n",
       "      <td>Michgehl &amp; Partner GmbH</td>\n",
       "      <td>http://www.michgehl.de</td>\n",
       "      <td>NaN</td>\n",
       "      <td>Nordwalde</td>\n",
       "      <td>DE</td>\n",
       "      <td>experte</td>\n",
       "      <td>NaN</td>\n",
       "      <td>NaN</td>\n",
       "      <td>NaN</td>\n",
       "      <td>NaN</td>\n",
       "      <td>NaN</td>\n",
       "      <td>NaN</td>\n",
       "    </tr>\n",
       "    <tr>\n",
       "      <th>3</th>\n",
       "      <td>942</td>\n",
       "      <td>biX Consulting GmbH &amp; Co. KG</td>\n",
       "      <td>http://www.bix-consulting.de</td>\n",
       "      <td>NaN</td>\n",
       "      <td>Ratingen</td>\n",
       "      <td>DE</td>\n",
       "      <td>experte</td>\n",
       "      <td>341383430</td>\n",
       "      <td>www.bix-consulting.de</td>\n",
       "      <td>2008.0</td>\n",
       "      <td>Ratingen</td>\n",
       "      <td>DE</td>\n",
       "      <td>experte</td>\n",
       "    </tr>\n",
       "    <tr>\n",
       "      <th>4</th>\n",
       "      <td>985</td>\n",
       "      <td>OneTools GmbH &amp; Co. KG</td>\n",
       "      <td>http://www.onetools.de</td>\n",
       "      <td>NaN</td>\n",
       "      <td>Mainz</td>\n",
       "      <td>DE</td>\n",
       "      <td>experte</td>\n",
       "      <td>312557003</td>\n",
       "      <td>www.onetools.de</td>\n",
       "      <td>2006.0</td>\n",
       "      <td>Mainz</td>\n",
       "      <td>DE</td>\n",
       "      <td>experte</td>\n",
       "    </tr>\n",
       "    <tr>\n",
       "      <th>...</th>\n",
       "      <td>...</td>\n",
       "      <td>...</td>\n",
       "      <td>...</td>\n",
       "      <td>...</td>\n",
       "      <td>...</td>\n",
       "      <td>...</td>\n",
       "      <td>...</td>\n",
       "      <td>...</td>\n",
       "      <td>...</td>\n",
       "      <td>...</td>\n",
       "      <td>...</td>\n",
       "      <td>...</td>\n",
       "      <td>...</td>\n",
       "    </tr>\n",
       "    <tr>\n",
       "      <th>11008</th>\n",
       "      <td>1866009</td>\n",
       "      <td>MetallArt Treppen GmbH</td>\n",
       "      <td>www.metallart-gmbh.de</td>\n",
       "      <td>1922.0</td>\n",
       "      <td>Salach</td>\n",
       "      <td>DE</td>\n",
       "      <td>reifen</td>\n",
       "      <td>NaN</td>\n",
       "      <td>NaN</td>\n",
       "      <td>NaN</td>\n",
       "      <td>NaN</td>\n",
       "      <td>NaN</td>\n",
       "      <td>NaN</td>\n",
       "    </tr>\n",
       "    <tr>\n",
       "      <th>11009</th>\n",
       "      <td>1866125</td>\n",
       "      <td>THE PAULY GROUP GmbH &amp; Co. KG</td>\n",
       "      <td>www.the-pauly-group.com</td>\n",
       "      <td>1991.0</td>\n",
       "      <td>Neu-Eichenberg</td>\n",
       "      <td>DE</td>\n",
       "      <td>experte</td>\n",
       "      <td>NaN</td>\n",
       "      <td>NaN</td>\n",
       "      <td>NaN</td>\n",
       "      <td>NaN</td>\n",
       "      <td>NaN</td>\n",
       "      <td>NaN</td>\n",
       "    </tr>\n",
       "    <tr>\n",
       "      <th>11010</th>\n",
       "      <td>1866453</td>\n",
       "      <td>BRICKMAKERS GmbH - Agentur für Digitalisierung</td>\n",
       "      <td>www.brickmakers.de</td>\n",
       "      <td>2010.0</td>\n",
       "      <td>Koblenz</td>\n",
       "      <td>DE</td>\n",
       "      <td>experte</td>\n",
       "      <td>NaN</td>\n",
       "      <td>NaN</td>\n",
       "      <td>NaN</td>\n",
       "      <td>NaN</td>\n",
       "      <td>NaN</td>\n",
       "      <td>NaN</td>\n",
       "    </tr>\n",
       "    <tr>\n",
       "      <th>11011</th>\n",
       "      <td>1867435</td>\n",
       "      <td>Planworx AG</td>\n",
       "      <td>www.planworx.de</td>\n",
       "      <td>1987.0</td>\n",
       "      <td>München</td>\n",
       "      <td>DE</td>\n",
       "      <td>junge</td>\n",
       "      <td>NaN</td>\n",
       "      <td>NaN</td>\n",
       "      <td>NaN</td>\n",
       "      <td>NaN</td>\n",
       "      <td>NaN</td>\n",
       "      <td>NaN</td>\n",
       "    </tr>\n",
       "    <tr>\n",
       "      <th>11012</th>\n",
       "      <td>1868021</td>\n",
       "      <td>BOAGAZ Holding GmbH</td>\n",
       "      <td>leer</td>\n",
       "      <td>NaN</td>\n",
       "      <td>leer</td>\n",
       "      <td>leer</td>\n",
       "      <td>experte</td>\n",
       "      <td>NaN</td>\n",
       "      <td>NaN</td>\n",
       "      <td>NaN</td>\n",
       "      <td>NaN</td>\n",
       "      <td>NaN</td>\n",
       "      <td>NaN</td>\n",
       "    </tr>\n",
       "  </tbody>\n",
       "</table>\n",
       "<p>11013 rows × 13 columns</p>\n",
       "</div>"
      ],
      "text/plain": [
       "          id_x                                    company_name  \\\n",
       "0          403                          Barfeld & Partner GmbH   \n",
       "1          462              vergissmeinnicht Werbeagentur GmbH   \n",
       "2          507                         Michgehl & Partner GmbH   \n",
       "3          942                    biX Consulting GmbH & Co. KG   \n",
       "4          985                          OneTools GmbH & Co. KG   \n",
       "...        ...                                             ...   \n",
       "11008  1866009                          MetallArt Treppen GmbH   \n",
       "11009  1866125                   THE PAULY GROUP GmbH & Co. KG   \n",
       "11010  1866453  BRICKMAKERS GmbH - Agentur für Digitalisierung   \n",
       "11011  1867435                                     Planworx AG   \n",
       "11012  1868021                             BOAGAZ Holding GmbH   \n",
       "\n",
       "                                      website_url_x  foundation_year_x  \\\n",
       "0                             http://www.barfeld.de                NaN   \n",
       "1      http://www.vergissmeinnicht-kommunikation.de             2008.0   \n",
       "2                            http://www.michgehl.de                NaN   \n",
       "3                      http://www.bix-consulting.de                NaN   \n",
       "4                            http://www.onetools.de                NaN   \n",
       "...                                             ...                ...   \n",
       "11008                         www.metallart-gmbh.de             1922.0   \n",
       "11009                       www.the-pauly-group.com             1991.0   \n",
       "11010                            www.brickmakers.de             2010.0   \n",
       "11011                               www.planworx.de             1987.0   \n",
       "11012                                          leer                NaN   \n",
       "\n",
       "                    city_x country_x foundation_year_cat_x       id_y  \\\n",
       "0      Mülheim an der Ruhr        DE               experte        NaN   \n",
       "1               Überlingen        DE               experte        NaN   \n",
       "2                Nordwalde        DE               experte        NaN   \n",
       "3                 Ratingen        DE               experte  341383430   \n",
       "4                    Mainz        DE               experte  312557003   \n",
       "...                    ...       ...                   ...        ...   \n",
       "11008               Salach        DE                reifen        NaN   \n",
       "11009       Neu-Eichenberg        DE               experte        NaN   \n",
       "11010              Koblenz        DE               experte        NaN   \n",
       "11011              München        DE                 junge        NaN   \n",
       "11012                 leer      leer               experte        NaN   \n",
       "\n",
       "               website_url_y  foundation_year_y    city_y country_y  \\\n",
       "0                        NaN                NaN       NaN       NaN   \n",
       "1                        NaN                NaN       NaN       NaN   \n",
       "2                        NaN                NaN       NaN       NaN   \n",
       "3      www.bix-consulting.de             2008.0  Ratingen        DE   \n",
       "4            www.onetools.de             2006.0     Mainz        DE   \n",
       "...                      ...                ...       ...       ...   \n",
       "11008                    NaN                NaN       NaN       NaN   \n",
       "11009                    NaN                NaN       NaN       NaN   \n",
       "11010                    NaN                NaN       NaN       NaN   \n",
       "11011                    NaN                NaN       NaN       NaN   \n",
       "11012                    NaN                NaN       NaN       NaN   \n",
       "\n",
       "      foundation_year_cat_y  \n",
       "0                       NaN  \n",
       "1                       NaN  \n",
       "2                       NaN  \n",
       "3                   experte  \n",
       "4                   experte  \n",
       "...                     ...  \n",
       "11008                   NaN  \n",
       "11009                   NaN  \n",
       "11010                   NaN  \n",
       "11011                   NaN  \n",
       "11012                   NaN  \n",
       "\n",
       "[11013 rows x 13 columns]"
      ]
     },
     "execution_count": 43,
     "metadata": {},
     "output_type": "execute_result"
    }
   ],
   "source": [
    "# Are the company_names entities/profiles match? And how many?\n",
    "print(c_profiles_df.merge(c_entities_df, on='company_name', how='inner').shape)\n",
    "c_profiles_df.merge(c_entities_df, on='company_name', how='left')\n",
    "\n",
    "# Reasoning:\n",
    "# \n",
    "# There are 10k profiles and 6k of them they matches with entities with that we could create our target for a \n",
    "# matriz factorization problem:\n",
    "# If there werent many many many categories and we could create a target variable \n",
    "# I would go for a different approaches:\n",
    "# 1. Multilabel classifier for ranking (if number of categories entities is small, not in this case) \n",
    "# 2. Matriz factorization (if we could create an \"interaction\" variable)\n",
    "\n",
    "# Saying that I would test two approaches: \n",
    "# . Beacuse is a matching problem (easiest way is to solve it is a \"join\" operator), will clean/standarize the company_name feature\n",
    "#   and merge both columns in an left or right join. And compare the solutions with the GT table. The way of measure performance\n",
    "#   could be the weighted mean of % matched within each profile --> entitites.\n",
    "\n",
    "# . Then as a test improvement I would convert/map the categorical variables into an embedding for each raw and then \n",
    "#   measure the similarity between profile embedding and entities embedding, and fix as a threshold value the limit \n",
    "#   for assigning entitities to profile.\n"
   ]
  },
  {
   "cell_type": "code",
   "execution_count": 44,
   "metadata": {},
   "outputs": [],
   "source": [
    "# Save data profile/entitites for first/second test:\n",
    "vars_to_filter = [\"id\", \"company_name\", \"city\", \"country\", \"foundation_year_cat\"]\n",
    "profiles_df = c_profiles_df[vars_to_filter]\n",
    "profiles_df.to_csv(os.path.join(get_output_path(), \"prof_data.csv\"), sep=\";\", index=False)\n",
    "entities_df = c_entities_df[vars_to_filter]\n",
    "entities_df.to_csv(os.path.join(get_output_path(), \"enti_data.csv\"), sep=\";\", index=False)"
   ]
  }
 ],
 "metadata": {
  "kernelspec": {
   "display_name": "Python 3",
   "language": "python",
   "name": "python3"
  },
  "language_info": {
   "codemirror_mode": {
    "name": "ipython",
    "version": 3
   },
   "file_extension": ".py",
   "mimetype": "text/x-python",
   "name": "python",
   "nbconvert_exporter": "python",
   "pygments_lexer": "ipython3",
   "version": "3.8.3"
  }
 },
 "nbformat": 4,
 "nbformat_minor": 4
}
